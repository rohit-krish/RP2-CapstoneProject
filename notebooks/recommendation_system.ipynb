{
 "cells": [
  {
   "cell_type": "code",
   "execution_count": 1,
   "metadata": {},
   "outputs": [],
   "source": [
    "import pandas as pd\n",
    "import numpy as np\n"
   ]
  },
  {
   "cell_type": "code",
   "execution_count": 2,
   "metadata": {},
   "outputs": [],
   "source": [
    "pd.set_option('display.max_columns', None)\n",
    "pd.set_option('display.max_rows', None)\n"
   ]
  },
  {
   "cell_type": "code",
   "execution_count": 4,
   "metadata": {},
   "outputs": [
    {
     "data": {
      "text/html": [
       "<div>\n",
       "<style scoped>\n",
       "    .dataframe tbody tr th:only-of-type {\n",
       "        vertical-align: middle;\n",
       "    }\n",
       "\n",
       "    .dataframe tbody tr th {\n",
       "        vertical-align: top;\n",
       "    }\n",
       "\n",
       "    .dataframe thead th {\n",
       "        text-align: right;\n",
       "    }\n",
       "</style>\n",
       "<table border=\"1\" class=\"dataframe\">\n",
       "  <thead>\n",
       "    <tr style=\"text-align: right;\">\n",
       "      <th></th>\n",
       "      <th>name</th>\n",
       "      <th>rating</th>\n",
       "      <th>genre</th>\n",
       "      <th>score</th>\n",
       "      <th>director</th>\n",
       "      <th>writer</th>\n",
       "      <th>star</th>\n",
       "      <th>company</th>\n",
       "      <th>year</th>\n",
       "      <th>country</th>\n",
       "    </tr>\n",
       "  </thead>\n",
       "  <tbody>\n",
       "    <tr>\n",
       "      <th>0</th>\n",
       "      <td>The Shining</td>\n",
       "      <td>R</td>\n",
       "      <td>Drama</td>\n",
       "      <td>8.4</td>\n",
       "      <td>Stanley Kubrick</td>\n",
       "      <td>Stephen King</td>\n",
       "      <td>Jack Nicholson</td>\n",
       "      <td>Warner Bros.</td>\n",
       "      <td>1980</td>\n",
       "      <td>United States</td>\n",
       "    </tr>\n",
       "    <tr>\n",
       "      <th>1</th>\n",
       "      <td>The Blue Lagoon</td>\n",
       "      <td>R</td>\n",
       "      <td>Adventure</td>\n",
       "      <td>5.8</td>\n",
       "      <td>Randal Kleiser</td>\n",
       "      <td>Henry De Vere Stacpoole</td>\n",
       "      <td>Brooke Shields</td>\n",
       "      <td>Columbia Pictures</td>\n",
       "      <td>1980</td>\n",
       "      <td>United States</td>\n",
       "    </tr>\n",
       "    <tr>\n",
       "      <th>2</th>\n",
       "      <td>Star Wars: Episode V - The Empire Strikes Back</td>\n",
       "      <td>PG</td>\n",
       "      <td>Action</td>\n",
       "      <td>8.7</td>\n",
       "      <td>Irvin Kershner</td>\n",
       "      <td>Leigh Brackett</td>\n",
       "      <td>Mark Hamill</td>\n",
       "      <td>Lucasfilm</td>\n",
       "      <td>1980</td>\n",
       "      <td>United States</td>\n",
       "    </tr>\n",
       "    <tr>\n",
       "      <th>3</th>\n",
       "      <td>Airplane!</td>\n",
       "      <td>PG</td>\n",
       "      <td>Comedy</td>\n",
       "      <td>7.7</td>\n",
       "      <td>Jim Abrahams</td>\n",
       "      <td>Jim Abrahams</td>\n",
       "      <td>Robert Hays</td>\n",
       "      <td>Paramount Pictures</td>\n",
       "      <td>1980</td>\n",
       "      <td>United States</td>\n",
       "    </tr>\n",
       "    <tr>\n",
       "      <th>4</th>\n",
       "      <td>Caddyshack</td>\n",
       "      <td>R</td>\n",
       "      <td>Comedy</td>\n",
       "      <td>7.3</td>\n",
       "      <td>Harold Ramis</td>\n",
       "      <td>Brian Doyle-Murray</td>\n",
       "      <td>Chevy Chase</td>\n",
       "      <td>Orion Pictures</td>\n",
       "      <td>1980</td>\n",
       "      <td>United States</td>\n",
       "    </tr>\n",
       "  </tbody>\n",
       "</table>\n",
       "</div>"
      ],
      "text/plain": [
       "                                             name rating      genre  score  \\\n",
       "0                                     The Shining      R      Drama    8.4   \n",
       "1                                 The Blue Lagoon      R  Adventure    5.8   \n",
       "2  Star Wars: Episode V - The Empire Strikes Back     PG     Action    8.7   \n",
       "3                                       Airplane!     PG     Comedy    7.7   \n",
       "4                                      Caddyshack      R     Comedy    7.3   \n",
       "\n",
       "          director                   writer            star  \\\n",
       "0  Stanley Kubrick             Stephen King  Jack Nicholson   \n",
       "1   Randal Kleiser  Henry De Vere Stacpoole  Brooke Shields   \n",
       "2   Irvin Kershner           Leigh Brackett     Mark Hamill   \n",
       "3     Jim Abrahams             Jim Abrahams     Robert Hays   \n",
       "4     Harold Ramis       Brian Doyle-Murray     Chevy Chase   \n",
       "\n",
       "              company  year        country  \n",
       "0        Warner Bros.  1980  United States  \n",
       "1   Columbia Pictures  1980  United States  \n",
       "2           Lucasfilm  1980  United States  \n",
       "3  Paramount Pictures  1980  United States  \n",
       "4      Orion Pictures  1980  United States  "
      ]
     },
     "execution_count": 4,
     "metadata": {},
     "output_type": "execute_result"
    }
   ],
   "source": [
    "df = pd.read_csv('../data/preprocessed_data.csv')\n",
    "df.head()"
   ]
  },
  {
   "cell_type": "markdown",
   "metadata": {},
   "source": [
    "### Creating tags"
   ]
  },
  {
   "cell_type": "code",
   "execution_count": 5,
   "metadata": {},
   "outputs": [
    {
     "data": {
      "text/plain": [
       "array([1980, 1981, 1984, 1983, 1982, 1987, 1985, 1986, 1988, 1989, 1992,\n",
       "       1990, 1991, 1993, 1999, 2016, 1997, 1994, 1995, 1996, 2001, 2000,\n",
       "       1998, 2014, 2002, 2003, 2005])"
      ]
     },
     "execution_count": 5,
     "metadata": {},
     "output_type": "execute_result"
    }
   ],
   "source": [
    "df['year'].unique()"
   ]
  },
  {
   "cell_type": "code",
   "execution_count": 6,
   "metadata": {},
   "outputs": [],
   "source": [
    "def update_year(year):\n",
    "    if (year >= 1980) and (year < 1990):\n",
    "        return '80s'\n",
    "    elif (year >= 1990) and (year < 2000):\n",
    "        return '90s'\n",
    "    elif (year >= 2000) and (year < 2010):\n",
    "        return '2000s'\n",
    "    elif (year >= 2010) and (year < 2020):\n",
    "        return '2010s'\n",
    "\n",
    "df['year'] = df['year'].apply(update_year)"
   ]
  },
  {
   "cell_type": "code",
   "execution_count": 7,
   "metadata": {},
   "outputs": [
    {
     "data": {
      "text/html": [
       "<div>\n",
       "<style scoped>\n",
       "    .dataframe tbody tr th:only-of-type {\n",
       "        vertical-align: middle;\n",
       "    }\n",
       "\n",
       "    .dataframe tbody tr th {\n",
       "        vertical-align: top;\n",
       "    }\n",
       "\n",
       "    .dataframe thead th {\n",
       "        text-align: right;\n",
       "    }\n",
       "</style>\n",
       "<table border=\"1\" class=\"dataframe\">\n",
       "  <thead>\n",
       "    <tr style=\"text-align: right;\">\n",
       "      <th></th>\n",
       "      <th>name</th>\n",
       "      <th>rating</th>\n",
       "      <th>genre</th>\n",
       "      <th>score</th>\n",
       "      <th>director</th>\n",
       "      <th>writer</th>\n",
       "      <th>star</th>\n",
       "      <th>company</th>\n",
       "      <th>year</th>\n",
       "      <th>country</th>\n",
       "    </tr>\n",
       "  </thead>\n",
       "  <tbody>\n",
       "    <tr>\n",
       "      <th>0</th>\n",
       "      <td>The Shining</td>\n",
       "      <td>[R]</td>\n",
       "      <td>[Drama]</td>\n",
       "      <td>8.4</td>\n",
       "      <td>[Stanley_Kubrick]</td>\n",
       "      <td>[Stephen_King]</td>\n",
       "      <td>[Jack_Nicholson]</td>\n",
       "      <td>[Warner_Bros.]</td>\n",
       "      <td>[80s]</td>\n",
       "      <td>[United_States]</td>\n",
       "    </tr>\n",
       "    <tr>\n",
       "      <th>1</th>\n",
       "      <td>The Blue Lagoon</td>\n",
       "      <td>[R]</td>\n",
       "      <td>[Adventure]</td>\n",
       "      <td>5.8</td>\n",
       "      <td>[Randal_Kleiser]</td>\n",
       "      <td>[Henry_De_Vere_Stacpoole]</td>\n",
       "      <td>[Brooke_Shields]</td>\n",
       "      <td>[Columbia_Pictures]</td>\n",
       "      <td>[80s]</td>\n",
       "      <td>[United_States]</td>\n",
       "    </tr>\n",
       "    <tr>\n",
       "      <th>2</th>\n",
       "      <td>Star Wars: Episode V - The Empire Strikes Back</td>\n",
       "      <td>[PG]</td>\n",
       "      <td>[Action]</td>\n",
       "      <td>8.7</td>\n",
       "      <td>[Irvin_Kershner]</td>\n",
       "      <td>[Leigh_Brackett]</td>\n",
       "      <td>[Mark_Hamill]</td>\n",
       "      <td>[Lucasfilm]</td>\n",
       "      <td>[80s]</td>\n",
       "      <td>[United_States]</td>\n",
       "    </tr>\n",
       "    <tr>\n",
       "      <th>3</th>\n",
       "      <td>Airplane!</td>\n",
       "      <td>[PG]</td>\n",
       "      <td>[Comedy]</td>\n",
       "      <td>7.7</td>\n",
       "      <td>[Jim_Abrahams]</td>\n",
       "      <td>[Jim_Abrahams]</td>\n",
       "      <td>[Robert_Hays]</td>\n",
       "      <td>[Paramount_Pictures]</td>\n",
       "      <td>[80s]</td>\n",
       "      <td>[United_States]</td>\n",
       "    </tr>\n",
       "    <tr>\n",
       "      <th>4</th>\n",
       "      <td>Caddyshack</td>\n",
       "      <td>[R]</td>\n",
       "      <td>[Comedy]</td>\n",
       "      <td>7.3</td>\n",
       "      <td>[Harold_Ramis]</td>\n",
       "      <td>[Brian_Doyle-Murray]</td>\n",
       "      <td>[Chevy_Chase]</td>\n",
       "      <td>[Orion_Pictures]</td>\n",
       "      <td>[80s]</td>\n",
       "      <td>[United_States]</td>\n",
       "    </tr>\n",
       "  </tbody>\n",
       "</table>\n",
       "</div>"
      ],
      "text/plain": [
       "                                             name rating        genre  score  \\\n",
       "0                                     The Shining    [R]      [Drama]    8.4   \n",
       "1                                 The Blue Lagoon    [R]  [Adventure]    5.8   \n",
       "2  Star Wars: Episode V - The Empire Strikes Back   [PG]     [Action]    8.7   \n",
       "3                                       Airplane!   [PG]     [Comedy]    7.7   \n",
       "4                                      Caddyshack    [R]     [Comedy]    7.3   \n",
       "\n",
       "            director                     writer              star  \\\n",
       "0  [Stanley_Kubrick]             [Stephen_King]  [Jack_Nicholson]   \n",
       "1   [Randal_Kleiser]  [Henry_De_Vere_Stacpoole]  [Brooke_Shields]   \n",
       "2   [Irvin_Kershner]           [Leigh_Brackett]     [Mark_Hamill]   \n",
       "3     [Jim_Abrahams]             [Jim_Abrahams]     [Robert_Hays]   \n",
       "4     [Harold_Ramis]       [Brian_Doyle-Murray]     [Chevy_Chase]   \n",
       "\n",
       "                company   year          country  \n",
       "0        [Warner_Bros.]  [80s]  [United_States]  \n",
       "1   [Columbia_Pictures]  [80s]  [United_States]  \n",
       "2           [Lucasfilm]  [80s]  [United_States]  \n",
       "3  [Paramount_Pictures]  [80s]  [United_States]  \n",
       "4      [Orion_Pictures]  [80s]  [United_States]  "
      ]
     },
     "execution_count": 7,
     "metadata": {},
     "output_type": "execute_result"
    }
   ],
   "source": [
    "# filling '_' with space ' ' charecters\n",
    "def fill_(x):\n",
    "    return [x.replace(\" \", \"_\")]\n",
    "\n",
    "df[\"rating\"] = df[\"rating\"].apply(fill_)\n",
    "df[\"genre\"] = df[\"genre\"].apply(fill_)\n",
    "df[\"director\"] = df[\"director\"].apply(fill_)\n",
    "df[\"writer\"] = df[\"writer\"].apply(fill_)\n",
    "df[\"star\"] = df[\"star\"].apply(fill_)\n",
    "df[\"company\"] = df[\"company\"].apply(fill_)\n",
    "df[\"country\"] = df[\"country\"].apply(fill_)\n",
    "df[\"year\"] = df[\"year\"].apply(fill_)\n",
    "\n",
    "df.head()"
   ]
  },
  {
   "cell_type": "code",
   "execution_count": 8,
   "metadata": {},
   "outputs": [
    {
     "data": {
      "text/html": [
       "<div>\n",
       "<style scoped>\n",
       "    .dataframe tbody tr th:only-of-type {\n",
       "        vertical-align: middle;\n",
       "    }\n",
       "\n",
       "    .dataframe tbody tr th {\n",
       "        vertical-align: top;\n",
       "    }\n",
       "\n",
       "    .dataframe thead th {\n",
       "        text-align: right;\n",
       "    }\n",
       "</style>\n",
       "<table border=\"1\" class=\"dataframe\">\n",
       "  <thead>\n",
       "    <tr style=\"text-align: right;\">\n",
       "      <th></th>\n",
       "      <th>name</th>\n",
       "      <th>rating</th>\n",
       "      <th>genre</th>\n",
       "      <th>score</th>\n",
       "      <th>director</th>\n",
       "      <th>writer</th>\n",
       "      <th>star</th>\n",
       "      <th>company</th>\n",
       "      <th>year</th>\n",
       "      <th>country</th>\n",
       "      <th>tags</th>\n",
       "    </tr>\n",
       "  </thead>\n",
       "  <tbody>\n",
       "    <tr>\n",
       "      <th>0</th>\n",
       "      <td>The Shining</td>\n",
       "      <td>[R]</td>\n",
       "      <td>[Drama]</td>\n",
       "      <td>8.4</td>\n",
       "      <td>[Stanley_Kubrick]</td>\n",
       "      <td>[Stephen_King]</td>\n",
       "      <td>[Jack_Nicholson]</td>\n",
       "      <td>[Warner_Bros.]</td>\n",
       "      <td>[80s]</td>\n",
       "      <td>[United_States]</td>\n",
       "      <td>R Drama Stanley_Kubrick Stephen_King Jack_Nich...</td>\n",
       "    </tr>\n",
       "    <tr>\n",
       "      <th>1</th>\n",
       "      <td>The Blue Lagoon</td>\n",
       "      <td>[R]</td>\n",
       "      <td>[Adventure]</td>\n",
       "      <td>5.8</td>\n",
       "      <td>[Randal_Kleiser]</td>\n",
       "      <td>[Henry_De_Vere_Stacpoole]</td>\n",
       "      <td>[Brooke_Shields]</td>\n",
       "      <td>[Columbia_Pictures]</td>\n",
       "      <td>[80s]</td>\n",
       "      <td>[United_States]</td>\n",
       "      <td>R Adventure Randal_Kleiser Henry_De_Vere_Stacp...</td>\n",
       "    </tr>\n",
       "    <tr>\n",
       "      <th>2</th>\n",
       "      <td>Star Wars: Episode V - The Empire Strikes Back</td>\n",
       "      <td>[PG]</td>\n",
       "      <td>[Action]</td>\n",
       "      <td>8.7</td>\n",
       "      <td>[Irvin_Kershner]</td>\n",
       "      <td>[Leigh_Brackett]</td>\n",
       "      <td>[Mark_Hamill]</td>\n",
       "      <td>[Lucasfilm]</td>\n",
       "      <td>[80s]</td>\n",
       "      <td>[United_States]</td>\n",
       "      <td>PG Action Irvin_Kershner Leigh_Brackett Mark_H...</td>\n",
       "    </tr>\n",
       "    <tr>\n",
       "      <th>3</th>\n",
       "      <td>Airplane!</td>\n",
       "      <td>[PG]</td>\n",
       "      <td>[Comedy]</td>\n",
       "      <td>7.7</td>\n",
       "      <td>[Jim_Abrahams]</td>\n",
       "      <td>[Jim_Abrahams]</td>\n",
       "      <td>[Robert_Hays]</td>\n",
       "      <td>[Paramount_Pictures]</td>\n",
       "      <td>[80s]</td>\n",
       "      <td>[United_States]</td>\n",
       "      <td>PG Comedy Jim_Abrahams Jim_Abrahams Robert_Hay...</td>\n",
       "    </tr>\n",
       "    <tr>\n",
       "      <th>4</th>\n",
       "      <td>Caddyshack</td>\n",
       "      <td>[R]</td>\n",
       "      <td>[Comedy]</td>\n",
       "      <td>7.3</td>\n",
       "      <td>[Harold_Ramis]</td>\n",
       "      <td>[Brian_Doyle-Murray]</td>\n",
       "      <td>[Chevy_Chase]</td>\n",
       "      <td>[Orion_Pictures]</td>\n",
       "      <td>[80s]</td>\n",
       "      <td>[United_States]</td>\n",
       "      <td>R Comedy Harold_Ramis Brian_Doyle-Murray Chevy...</td>\n",
       "    </tr>\n",
       "  </tbody>\n",
       "</table>\n",
       "</div>"
      ],
      "text/plain": [
       "                                             name rating        genre  score  \\\n",
       "0                                     The Shining    [R]      [Drama]    8.4   \n",
       "1                                 The Blue Lagoon    [R]  [Adventure]    5.8   \n",
       "2  Star Wars: Episode V - The Empire Strikes Back   [PG]     [Action]    8.7   \n",
       "3                                       Airplane!   [PG]     [Comedy]    7.7   \n",
       "4                                      Caddyshack    [R]     [Comedy]    7.3   \n",
       "\n",
       "            director                     writer              star  \\\n",
       "0  [Stanley_Kubrick]             [Stephen_King]  [Jack_Nicholson]   \n",
       "1   [Randal_Kleiser]  [Henry_De_Vere_Stacpoole]  [Brooke_Shields]   \n",
       "2   [Irvin_Kershner]           [Leigh_Brackett]     [Mark_Hamill]   \n",
       "3     [Jim_Abrahams]             [Jim_Abrahams]     [Robert_Hays]   \n",
       "4     [Harold_Ramis]       [Brian_Doyle-Murray]     [Chevy_Chase]   \n",
       "\n",
       "                company   year          country  \\\n",
       "0        [Warner_Bros.]  [80s]  [United_States]   \n",
       "1   [Columbia_Pictures]  [80s]  [United_States]   \n",
       "2           [Lucasfilm]  [80s]  [United_States]   \n",
       "3  [Paramount_Pictures]  [80s]  [United_States]   \n",
       "4      [Orion_Pictures]  [80s]  [United_States]   \n",
       "\n",
       "                                                tags  \n",
       "0  R Drama Stanley_Kubrick Stephen_King Jack_Nich...  \n",
       "1  R Adventure Randal_Kleiser Henry_De_Vere_Stacp...  \n",
       "2  PG Action Irvin_Kershner Leigh_Brackett Mark_H...  \n",
       "3  PG Comedy Jim_Abrahams Jim_Abrahams Robert_Hay...  \n",
       "4  R Comedy Harold_Ramis Brian_Doyle-Murray Chevy...  "
      ]
     },
     "execution_count": 8,
     "metadata": {},
     "output_type": "execute_result"
    }
   ],
   "source": [
    "# create tags\n",
    "\n",
    "df['tags'] = df['rating'] + df['genre'] + df['director'] + df['writer'] + df['star'] + df['company'] + df['country'] + df['year']\n",
    "df['tags'] = df['tags'].apply(lambda x: ' '.join(x))\n",
    "\n",
    "df.head()\n"
   ]
  },
  {
   "cell_type": "code",
   "execution_count": 9,
   "metadata": {},
   "outputs": [
    {
     "data": {
      "text/html": [
       "<div>\n",
       "<style scoped>\n",
       "    .dataframe tbody tr th:only-of-type {\n",
       "        vertical-align: middle;\n",
       "    }\n",
       "\n",
       "    .dataframe tbody tr th {\n",
       "        vertical-align: top;\n",
       "    }\n",
       "\n",
       "    .dataframe thead th {\n",
       "        text-align: right;\n",
       "    }\n",
       "</style>\n",
       "<table border=\"1\" class=\"dataframe\">\n",
       "  <thead>\n",
       "    <tr style=\"text-align: right;\">\n",
       "      <th></th>\n",
       "      <th>name</th>\n",
       "      <th>score</th>\n",
       "      <th>tags</th>\n",
       "    </tr>\n",
       "  </thead>\n",
       "  <tbody>\n",
       "    <tr>\n",
       "      <th>0</th>\n",
       "      <td>The Shining</td>\n",
       "      <td>8.4</td>\n",
       "      <td>R Drama Stanley_Kubrick Stephen_King Jack_Nich...</td>\n",
       "    </tr>\n",
       "    <tr>\n",
       "      <th>1</th>\n",
       "      <td>The Blue Lagoon</td>\n",
       "      <td>5.8</td>\n",
       "      <td>R Adventure Randal_Kleiser Henry_De_Vere_Stacp...</td>\n",
       "    </tr>\n",
       "    <tr>\n",
       "      <th>2</th>\n",
       "      <td>Star Wars: Episode V - The Empire Strikes Back</td>\n",
       "      <td>8.7</td>\n",
       "      <td>PG Action Irvin_Kershner Leigh_Brackett Mark_H...</td>\n",
       "    </tr>\n",
       "    <tr>\n",
       "      <th>3</th>\n",
       "      <td>Airplane!</td>\n",
       "      <td>7.7</td>\n",
       "      <td>PG Comedy Jim_Abrahams Jim_Abrahams Robert_Hay...</td>\n",
       "    </tr>\n",
       "    <tr>\n",
       "      <th>4</th>\n",
       "      <td>Caddyshack</td>\n",
       "      <td>7.3</td>\n",
       "      <td>R Comedy Harold_Ramis Brian_Doyle-Murray Chevy...</td>\n",
       "    </tr>\n",
       "  </tbody>\n",
       "</table>\n",
       "</div>"
      ],
      "text/plain": [
       "                                             name  score  \\\n",
       "0                                     The Shining    8.4   \n",
       "1                                 The Blue Lagoon    5.8   \n",
       "2  Star Wars: Episode V - The Empire Strikes Back    8.7   \n",
       "3                                       Airplane!    7.7   \n",
       "4                                      Caddyshack    7.3   \n",
       "\n",
       "                                                tags  \n",
       "0  R Drama Stanley_Kubrick Stephen_King Jack_Nich...  \n",
       "1  R Adventure Randal_Kleiser Henry_De_Vere_Stacp...  \n",
       "2  PG Action Irvin_Kershner Leigh_Brackett Mark_H...  \n",
       "3  PG Comedy Jim_Abrahams Jim_Abrahams Robert_Hay...  \n",
       "4  R Comedy Harold_Ramis Brian_Doyle-Murray Chevy...  "
      ]
     },
     "execution_count": 9,
     "metadata": {},
     "output_type": "execute_result"
    }
   ],
   "source": [
    "df_new = df[['name', 'score', 'tags']]\n",
    "df_new.head()\n"
   ]
  },
  {
   "cell_type": "markdown",
   "metadata": {},
   "source": [
    "#### Vectorization (Bag Of Words)"
   ]
  },
  {
   "cell_type": "code",
   "execution_count": 10,
   "metadata": {},
   "outputs": [
    {
     "data": {
      "text/plain": [
       "(3827, 6521)"
      ]
     },
     "execution_count": 10,
     "metadata": {},
     "output_type": "execute_result"
    }
   ],
   "source": [
    "from sklearn.feature_extraction.text import CountVectorizer\n",
    "\n",
    "cv = CountVectorizer(stop_words='english')\n",
    "\n",
    "vectors_bow = cv.fit_transform(df['tags']).toarray()\n",
    "vectors_bow.shape\n"
   ]
  },
  {
   "cell_type": "code",
   "execution_count": 11,
   "metadata": {},
   "outputs": [
    {
     "data": {
      "text/plain": [
       "array(['13', '1492_pictures', '17', ..., 'émilie_dequenne', 'éric_rohmer',\n",
       "       'éva_gárdos'], dtype=object)"
      ]
     },
     "execution_count": 11,
     "metadata": {},
     "output_type": "execute_result"
    }
   ],
   "source": [
    "cv.get_feature_names_out()"
   ]
  },
  {
   "cell_type": "code",
   "execution_count": 12,
   "metadata": {},
   "outputs": [
    {
     "data": {
      "text/plain": [
       "array([0, 1, 2, 3])"
      ]
     },
     "execution_count": 12,
     "metadata": {},
     "output_type": "execute_result"
    }
   ],
   "source": [
    "np.unique(vectors_bow)"
   ]
  },
  {
   "cell_type": "code",
   "execution_count": 13,
   "metadata": {},
   "outputs": [],
   "source": [
    "vectors_bow = np.hstack((vectors_bow, df[['score']].to_numpy()))\n"
   ]
  },
  {
   "cell_type": "code",
   "execution_count": 14,
   "metadata": {},
   "outputs": [],
   "source": [
    "from sklearn.metrics.pairwise import cosine_similarity\n",
    "\n",
    "similarity_bow = cosine_similarity(vectors_bow)\n"
   ]
  },
  {
   "cell_type": "code",
   "execution_count": 15,
   "metadata": {},
   "outputs": [],
   "source": [
    "def recommend(movie, similarity):\n",
    "    movie_index = df[df['name'] == movie].index[0]\n",
    "    distances = similarity[movie_index]\n",
    "    movies_list = sorted(list(enumerate(distances)), reverse=True, key=lambda x: x[1])[:6]\n",
    "\n",
    "    for m in movies_list:\n",
    "        print(df.iloc[m[0]]['name'])\n"
   ]
  },
  {
   "cell_type": "code",
   "execution_count": 16,
   "metadata": {},
   "outputs": [
    {
     "name": "stdout",
     "output_type": "stream",
     "text": [
      "The Avengers\n",
      "If Looks Could Kill\n",
      "Batman Forever\n",
      "Sphere\n",
      "Twister\n",
      "U.S. Marshals\n"
     ]
    }
   ],
   "source": [
    "recommend('The Avengers', similarity_bow)"
   ]
  },
  {
   "cell_type": "code",
   "execution_count": 17,
   "metadata": {},
   "outputs": [
    {
     "data": {
      "text/html": [
       "<div>\n",
       "<style scoped>\n",
       "    .dataframe tbody tr th:only-of-type {\n",
       "        vertical-align: middle;\n",
       "    }\n",
       "\n",
       "    .dataframe tbody tr th {\n",
       "        vertical-align: top;\n",
       "    }\n",
       "\n",
       "    .dataframe thead th {\n",
       "        text-align: right;\n",
       "    }\n",
       "</style>\n",
       "<table border=\"1\" class=\"dataframe\">\n",
       "  <thead>\n",
       "    <tr style=\"text-align: right;\">\n",
       "      <th></th>\n",
       "      <th>name</th>\n",
       "      <th>rating</th>\n",
       "      <th>genre</th>\n",
       "      <th>score</th>\n",
       "      <th>director</th>\n",
       "      <th>writer</th>\n",
       "      <th>star</th>\n",
       "      <th>company</th>\n",
       "      <th>year</th>\n",
       "      <th>country</th>\n",
       "      <th>tags</th>\n",
       "    </tr>\n",
       "  </thead>\n",
       "  <tbody>\n",
       "    <tr>\n",
       "      <th>2951</th>\n",
       "      <td>Scream 2</td>\n",
       "      <td>[R]</td>\n",
       "      <td>[Horror]</td>\n",
       "      <td>6.2</td>\n",
       "      <td>[Wes_Craven]</td>\n",
       "      <td>[Kevin_Williamson]</td>\n",
       "      <td>[Neve_Campbell]</td>\n",
       "      <td>[Dimension_Films]</td>\n",
       "      <td>[90s]</td>\n",
       "      <td>[United_States]</td>\n",
       "      <td>R Horror Wes_Craven Kevin_Williamson Neve_Camp...</td>\n",
       "    </tr>\n",
       "    <tr>\n",
       "      <th>106</th>\n",
       "      <td>Friday the 13th Part 2</td>\n",
       "      <td>[R]</td>\n",
       "      <td>[Horror]</td>\n",
       "      <td>6.1</td>\n",
       "      <td>[Steve_Miner]</td>\n",
       "      <td>[Ron_Kurz]</td>\n",
       "      <td>[Betsy_Palmer]</td>\n",
       "      <td>[Georgetown_Productions_Inc.]</td>\n",
       "      <td>[80s]</td>\n",
       "      <td>[United_States]</td>\n",
       "      <td>R Horror Steve_Miner Ron_Kurz Betsy_Palmer Geo...</td>\n",
       "    </tr>\n",
       "    <tr>\n",
       "      <th>1513</th>\n",
       "      <td>Speed Zone</td>\n",
       "      <td>[PG]</td>\n",
       "      <td>[Action]</td>\n",
       "      <td>4.5</td>\n",
       "      <td>[Jim_Drake]</td>\n",
       "      <td>[Michael_Short]</td>\n",
       "      <td>[Peter_Boyle]</td>\n",
       "      <td>[Canadian_International_Studios_VIII]</td>\n",
       "      <td>[80s]</td>\n",
       "      <td>[United_States]</td>\n",
       "      <td>PG Action Jim_Drake Michael_Short Peter_Boyle ...</td>\n",
       "    </tr>\n",
       "    <tr>\n",
       "      <th>115</th>\n",
       "      <td>Absence of Malice</td>\n",
       "      <td>[PG]</td>\n",
       "      <td>[Drama]</td>\n",
       "      <td>6.9</td>\n",
       "      <td>[Sydney_Pollack]</td>\n",
       "      <td>[Kurt_Luedtke]</td>\n",
       "      <td>[Paul_Newman]</td>\n",
       "      <td>[Columbia_Pictures]</td>\n",
       "      <td>[80s]</td>\n",
       "      <td>[United_States]</td>\n",
       "      <td>PG Drama Sydney_Pollack Kurt_Luedtke Paul_Newm...</td>\n",
       "    </tr>\n",
       "    <tr>\n",
       "      <th>2152</th>\n",
       "      <td>This Is My Life</td>\n",
       "      <td>[PG-13]</td>\n",
       "      <td>[Drama]</td>\n",
       "      <td>6.1</td>\n",
       "      <td>[Nora_Ephron]</td>\n",
       "      <td>[Meg_Wolitzer]</td>\n",
       "      <td>[Julie_Kavner]</td>\n",
       "      <td>[Twentieth_Century_Fox]</td>\n",
       "      <td>[90s]</td>\n",
       "      <td>[United_States]</td>\n",
       "      <td>PG-13 Drama Nora_Ephron Meg_Wolitzer Julie_Kav...</td>\n",
       "    </tr>\n",
       "  </tbody>\n",
       "</table>\n",
       "</div>"
      ],
      "text/plain": [
       "                        name   rating     genre  score          director  \\\n",
       "2951                Scream 2      [R]  [Horror]    6.2      [Wes_Craven]   \n",
       "106   Friday the 13th Part 2      [R]  [Horror]    6.1     [Steve_Miner]   \n",
       "1513              Speed Zone     [PG]  [Action]    4.5       [Jim_Drake]   \n",
       "115        Absence of Malice     [PG]   [Drama]    6.9  [Sydney_Pollack]   \n",
       "2152         This Is My Life  [PG-13]   [Drama]    6.1     [Nora_Ephron]   \n",
       "\n",
       "                  writer             star  \\\n",
       "2951  [Kevin_Williamson]  [Neve_Campbell]   \n",
       "106           [Ron_Kurz]   [Betsy_Palmer]   \n",
       "1513     [Michael_Short]    [Peter_Boyle]   \n",
       "115       [Kurt_Luedtke]    [Paul_Newman]   \n",
       "2152      [Meg_Wolitzer]   [Julie_Kavner]   \n",
       "\n",
       "                                    company   year          country  \\\n",
       "2951                      [Dimension_Films]  [90s]  [United_States]   \n",
       "106           [Georgetown_Productions_Inc.]  [80s]  [United_States]   \n",
       "1513  [Canadian_International_Studios_VIII]  [80s]  [United_States]   \n",
       "115                     [Columbia_Pictures]  [80s]  [United_States]   \n",
       "2152                [Twentieth_Century_Fox]  [90s]  [United_States]   \n",
       "\n",
       "                                                   tags  \n",
       "2951  R Horror Wes_Craven Kevin_Williamson Neve_Camp...  \n",
       "106   R Horror Steve_Miner Ron_Kurz Betsy_Palmer Geo...  \n",
       "1513  PG Action Jim_Drake Michael_Short Peter_Boyle ...  \n",
       "115   PG Drama Sydney_Pollack Kurt_Luedtke Paul_Newm...  \n",
       "2152  PG-13 Drama Nora_Ephron Meg_Wolitzer Julie_Kav...  "
      ]
     },
     "execution_count": 17,
     "metadata": {},
     "output_type": "execute_result"
    }
   ],
   "source": [
    "df.sample(5)\n"
   ]
  },
  {
   "cell_type": "markdown",
   "metadata": {},
   "source": [
    "#### Try with TF-IDF"
   ]
  },
  {
   "cell_type": "code",
   "execution_count": 18,
   "metadata": {},
   "outputs": [
    {
     "data": {
      "text/plain": [
       "(3827, 6522)"
      ]
     },
     "execution_count": 18,
     "metadata": {},
     "output_type": "execute_result"
    }
   ],
   "source": [
    "from sklearn.feature_extraction.text import TfidfVectorizer\n",
    "\n",
    "tfidf = TfidfVectorizer(stop_words=\"english\")\n",
    "\n",
    "vectors_tfidf = tfidf.fit_transform(df['tags']).toarray()\n",
    "vectors_tfidf = np.hstack((vectors_tfidf, df[['score']].to_numpy()))\n",
    "vectors_tfidf.shape\n"
   ]
  },
  {
   "cell_type": "code",
   "execution_count": 19,
   "metadata": {},
   "outputs": [],
   "source": [
    "similarity_tfidf = cosine_similarity(vectors_tfidf)"
   ]
  },
  {
   "cell_type": "code",
   "execution_count": 20,
   "metadata": {},
   "outputs": [
    {
     "name": "stdout",
     "output_type": "stream",
     "text": [
      "The Avengers\n",
      "National Lampoon's Christmas Vacation\n",
      "Benny & Joon\n",
      "Tall Tale\n",
      "Diabolique\n",
      "Quiz Show\n"
     ]
    }
   ],
   "source": [
    "recommend('The Avengers', similarity_tfidf)"
   ]
  },
  {
   "cell_type": "markdown",
   "metadata": {},
   "source": [
    "### Saving the recommendation assets in parquet format"
   ]
  },
  {
   "cell_type": "code",
   "execution_count": null,
   "metadata": {},
   "outputs": [],
   "source": [
    "!pip install fastparquet\n",
    "# or\n",
    "# !pip install pyarrow\n"
   ]
  },
  {
   "cell_type": "code",
   "execution_count": 26,
   "metadata": {},
   "outputs": [],
   "source": [
    "df[['name']].to_parquet('../data/df_name.parquet')"
   ]
  },
  {
   "cell_type": "code",
   "execution_count": 37,
   "metadata": {},
   "outputs": [],
   "source": [
    "pd.DataFrame(similarity_bow, columns=[str(i) for i in range(similarity_bow.shape[1])]).to_parquet('../data/df_similarity_bow.parquet')\n"
   ]
  },
  {
   "cell_type": "code",
   "execution_count": null,
   "metadata": {},
   "outputs": [],
   "source": []
  }
 ],
 "metadata": {
  "kernelspec": {
   "display_name": "Python 3 (ipykernel)",
   "language": "python",
   "name": "python3"
  },
  "language_info": {
   "codemirror_mode": {
    "name": "ipython",
    "version": 3
   },
   "file_extension": ".py",
   "mimetype": "text/x-python",
   "name": "python",
   "nbconvert_exporter": "python",
   "pygments_lexer": "ipython3",
   "version": "3.11.5"
  }
 },
 "nbformat": 4,
 "nbformat_minor": 2
}
