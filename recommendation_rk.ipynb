{
 "cells": [
  {
   "cell_type": "code",
   "execution_count": 46,
   "metadata": {},
   "outputs": [],
   "source": [
    "import pandas as pd\n",
    "import numpy as np\n"
   ]
  },
  {
   "cell_type": "code",
   "execution_count": 6,
   "metadata": {},
   "outputs": [],
   "source": [
    "pd.set_option('display.max_columns', None)\n",
    "pd.set_option('display.max_rows', None)\n"
   ]
  },
  {
   "cell_type": "code",
   "execution_count": 32,
   "metadata": {},
   "outputs": [
    {
     "data": {
      "text/html": [
       "<div>\n",
       "<style scoped>\n",
       "    .dataframe tbody tr th:only-of-type {\n",
       "        vertical-align: middle;\n",
       "    }\n",
       "\n",
       "    .dataframe tbody tr th {\n",
       "        vertical-align: top;\n",
       "    }\n",
       "\n",
       "    .dataframe thead th {\n",
       "        text-align: right;\n",
       "    }\n",
       "</style>\n",
       "<table border=\"1\" class=\"dataframe\">\n",
       "  <thead>\n",
       "    <tr style=\"text-align: right;\">\n",
       "      <th></th>\n",
       "      <th>name</th>\n",
       "      <th>rating</th>\n",
       "      <th>genre</th>\n",
       "      <th>score</th>\n",
       "      <th>director</th>\n",
       "      <th>writer</th>\n",
       "      <th>star</th>\n",
       "      <th>company</th>\n",
       "      <th>year</th>\n",
       "      <th>country</th>\n",
       "    </tr>\n",
       "  </thead>\n",
       "  <tbody>\n",
       "    <tr>\n",
       "      <th>0</th>\n",
       "      <td>The Shining</td>\n",
       "      <td>R</td>\n",
       "      <td>Drama</td>\n",
       "      <td>8.4</td>\n",
       "      <td>Stanley Kubrick</td>\n",
       "      <td>Stephen King</td>\n",
       "      <td>Jack Nicholson</td>\n",
       "      <td>Warner Bros.</td>\n",
       "      <td>1980</td>\n",
       "      <td>United States</td>\n",
       "    </tr>\n",
       "    <tr>\n",
       "      <th>1</th>\n",
       "      <td>The Blue Lagoon</td>\n",
       "      <td>R</td>\n",
       "      <td>Adventure</td>\n",
       "      <td>5.8</td>\n",
       "      <td>Randal Kleiser</td>\n",
       "      <td>Henry De Vere Stacpoole</td>\n",
       "      <td>Brooke Shields</td>\n",
       "      <td>Columbia Pictures</td>\n",
       "      <td>1980</td>\n",
       "      <td>United States</td>\n",
       "    </tr>\n",
       "    <tr>\n",
       "      <th>2</th>\n",
       "      <td>Star Wars: Episode V - The Empire Strikes Back</td>\n",
       "      <td>PG</td>\n",
       "      <td>Action</td>\n",
       "      <td>8.7</td>\n",
       "      <td>Irvin Kershner</td>\n",
       "      <td>Leigh Brackett</td>\n",
       "      <td>Mark Hamill</td>\n",
       "      <td>Lucasfilm</td>\n",
       "      <td>1980</td>\n",
       "      <td>United States</td>\n",
       "    </tr>\n",
       "    <tr>\n",
       "      <th>3</th>\n",
       "      <td>Airplane!</td>\n",
       "      <td>PG</td>\n",
       "      <td>Comedy</td>\n",
       "      <td>7.7</td>\n",
       "      <td>Jim Abrahams</td>\n",
       "      <td>Jim Abrahams</td>\n",
       "      <td>Robert Hays</td>\n",
       "      <td>Paramount Pictures</td>\n",
       "      <td>1980</td>\n",
       "      <td>United States</td>\n",
       "    </tr>\n",
       "    <tr>\n",
       "      <th>4</th>\n",
       "      <td>Caddyshack</td>\n",
       "      <td>R</td>\n",
       "      <td>Comedy</td>\n",
       "      <td>7.3</td>\n",
       "      <td>Harold Ramis</td>\n",
       "      <td>Brian Doyle-Murray</td>\n",
       "      <td>Chevy Chase</td>\n",
       "      <td>Orion Pictures</td>\n",
       "      <td>1980</td>\n",
       "      <td>United States</td>\n",
       "    </tr>\n",
       "  </tbody>\n",
       "</table>\n",
       "</div>"
      ],
      "text/plain": [
       "                                             name rating      genre  score  \\\n",
       "0                                     The Shining      R      Drama    8.4   \n",
       "1                                 The Blue Lagoon      R  Adventure    5.8   \n",
       "2  Star Wars: Episode V - The Empire Strikes Back     PG     Action    8.7   \n",
       "3                                       Airplane!     PG     Comedy    7.7   \n",
       "4                                      Caddyshack      R     Comedy    7.3   \n",
       "\n",
       "          director                   writer            star  \\\n",
       "0  Stanley Kubrick             Stephen King  Jack Nicholson   \n",
       "1   Randal Kleiser  Henry De Vere Stacpoole  Brooke Shields   \n",
       "2   Irvin Kershner           Leigh Brackett     Mark Hamill   \n",
       "3     Jim Abrahams             Jim Abrahams     Robert Hays   \n",
       "4     Harold Ramis       Brian Doyle-Murray     Chevy Chase   \n",
       "\n",
       "              company  year        country  \n",
       "0        Warner Bros.  1980  United States  \n",
       "1   Columbia Pictures  1980  United States  \n",
       "2           Lucasfilm  1980  United States  \n",
       "3  Paramount Pictures  1980  United States  \n",
       "4      Orion Pictures  1980  United States  "
      ]
     },
     "execution_count": 32,
     "metadata": {},
     "output_type": "execute_result"
    }
   ],
   "source": [
    "df = pd.read_csv('./data/preprocessed_data.csv')\n",
    "df.head()"
   ]
  },
  {
   "cell_type": "markdown",
   "metadata": {},
   "source": [
    "#### Creating tags"
   ]
  },
  {
   "cell_type": "code",
   "execution_count": 33,
   "metadata": {},
   "outputs": [
    {
     "data": {
      "text/html": [
       "<div>\n",
       "<style scoped>\n",
       "    .dataframe tbody tr th:only-of-type {\n",
       "        vertical-align: middle;\n",
       "    }\n",
       "\n",
       "    .dataframe tbody tr th {\n",
       "        vertical-align: top;\n",
       "    }\n",
       "\n",
       "    .dataframe thead th {\n",
       "        text-align: right;\n",
       "    }\n",
       "</style>\n",
       "<table border=\"1\" class=\"dataframe\">\n",
       "  <thead>\n",
       "    <tr style=\"text-align: right;\">\n",
       "      <th></th>\n",
       "      <th>name</th>\n",
       "      <th>rating</th>\n",
       "      <th>genre</th>\n",
       "      <th>score</th>\n",
       "      <th>director</th>\n",
       "      <th>writer</th>\n",
       "      <th>star</th>\n",
       "      <th>company</th>\n",
       "      <th>year</th>\n",
       "      <th>country</th>\n",
       "    </tr>\n",
       "  </thead>\n",
       "  <tbody>\n",
       "    <tr>\n",
       "      <th>0</th>\n",
       "      <td>The Shining</td>\n",
       "      <td>[R]</td>\n",
       "      <td>[Drama]</td>\n",
       "      <td>8.4</td>\n",
       "      <td>[Stanley_Kubrick]</td>\n",
       "      <td>[Stephen_King]</td>\n",
       "      <td>[Jack_Nicholson]</td>\n",
       "      <td>[Warner_Bros.]</td>\n",
       "      <td>1980</td>\n",
       "      <td>[United_States]</td>\n",
       "    </tr>\n",
       "    <tr>\n",
       "      <th>1</th>\n",
       "      <td>The Blue Lagoon</td>\n",
       "      <td>[R]</td>\n",
       "      <td>[Adventure]</td>\n",
       "      <td>5.8</td>\n",
       "      <td>[Randal_Kleiser]</td>\n",
       "      <td>[Henry_De_Vere_Stacpoole]</td>\n",
       "      <td>[Brooke_Shields]</td>\n",
       "      <td>[Columbia_Pictures]</td>\n",
       "      <td>1980</td>\n",
       "      <td>[United_States]</td>\n",
       "    </tr>\n",
       "    <tr>\n",
       "      <th>2</th>\n",
       "      <td>Star Wars: Episode V - The Empire Strikes Back</td>\n",
       "      <td>[PG]</td>\n",
       "      <td>[Action]</td>\n",
       "      <td>8.7</td>\n",
       "      <td>[Irvin_Kershner]</td>\n",
       "      <td>[Leigh_Brackett]</td>\n",
       "      <td>[Mark_Hamill]</td>\n",
       "      <td>[Lucasfilm]</td>\n",
       "      <td>1980</td>\n",
       "      <td>[United_States]</td>\n",
       "    </tr>\n",
       "    <tr>\n",
       "      <th>3</th>\n",
       "      <td>Airplane!</td>\n",
       "      <td>[PG]</td>\n",
       "      <td>[Comedy]</td>\n",
       "      <td>7.7</td>\n",
       "      <td>[Jim_Abrahams]</td>\n",
       "      <td>[Jim_Abrahams]</td>\n",
       "      <td>[Robert_Hays]</td>\n",
       "      <td>[Paramount_Pictures]</td>\n",
       "      <td>1980</td>\n",
       "      <td>[United_States]</td>\n",
       "    </tr>\n",
       "    <tr>\n",
       "      <th>4</th>\n",
       "      <td>Caddyshack</td>\n",
       "      <td>[R]</td>\n",
       "      <td>[Comedy]</td>\n",
       "      <td>7.3</td>\n",
       "      <td>[Harold_Ramis]</td>\n",
       "      <td>[Brian_Doyle-Murray]</td>\n",
       "      <td>[Chevy_Chase]</td>\n",
       "      <td>[Orion_Pictures]</td>\n",
       "      <td>1980</td>\n",
       "      <td>[United_States]</td>\n",
       "    </tr>\n",
       "  </tbody>\n",
       "</table>\n",
       "</div>"
      ],
      "text/plain": [
       "                                             name rating        genre  score  \\\n",
       "0                                     The Shining    [R]      [Drama]    8.4   \n",
       "1                                 The Blue Lagoon    [R]  [Adventure]    5.8   \n",
       "2  Star Wars: Episode V - The Empire Strikes Back   [PG]     [Action]    8.7   \n",
       "3                                       Airplane!   [PG]     [Comedy]    7.7   \n",
       "4                                      Caddyshack    [R]     [Comedy]    7.3   \n",
       "\n",
       "            director                     writer              star  \\\n",
       "0  [Stanley_Kubrick]             [Stephen_King]  [Jack_Nicholson]   \n",
       "1   [Randal_Kleiser]  [Henry_De_Vere_Stacpoole]  [Brooke_Shields]   \n",
       "2   [Irvin_Kershner]           [Leigh_Brackett]     [Mark_Hamill]   \n",
       "3     [Jim_Abrahams]             [Jim_Abrahams]     [Robert_Hays]   \n",
       "4     [Harold_Ramis]       [Brian_Doyle-Murray]     [Chevy_Chase]   \n",
       "\n",
       "                company  year          country  \n",
       "0        [Warner_Bros.]  1980  [United_States]  \n",
       "1   [Columbia_Pictures]  1980  [United_States]  \n",
       "2           [Lucasfilm]  1980  [United_States]  \n",
       "3  [Paramount_Pictures]  1980  [United_States]  \n",
       "4      [Orion_Pictures]  1980  [United_States]  "
      ]
     },
     "execution_count": 33,
     "metadata": {},
     "output_type": "execute_result"
    }
   ],
   "source": [
    "# filling '_' with space ' ' charecters\n",
    "def fill_(x):\n",
    "    return [x.replace(\" \", \"_\")]\n",
    "\n",
    "df[\"rating\"] = df[\"rating\"].apply(fill_)\n",
    "df[\"genre\"] = df[\"genre\"].apply(fill_)\n",
    "df[\"director\"] = df[\"director\"].apply(fill_)\n",
    "df[\"writer\"] = df[\"writer\"].apply(fill_)\n",
    "df[\"star\"] = df[\"star\"].apply(fill_)\n",
    "df[\"company\"] = df[\"company\"].apply(fill_)\n",
    "df[\"country\"] = df[\"country\"].apply(fill_)\n",
    "\n",
    "df.head()"
   ]
  },
  {
   "cell_type": "code",
   "execution_count": 36,
   "metadata": {},
   "outputs": [
    {
     "data": {
      "text/html": [
       "<div>\n",
       "<style scoped>\n",
       "    .dataframe tbody tr th:only-of-type {\n",
       "        vertical-align: middle;\n",
       "    }\n",
       "\n",
       "    .dataframe tbody tr th {\n",
       "        vertical-align: top;\n",
       "    }\n",
       "\n",
       "    .dataframe thead th {\n",
       "        text-align: right;\n",
       "    }\n",
       "</style>\n",
       "<table border=\"1\" class=\"dataframe\">\n",
       "  <thead>\n",
       "    <tr style=\"text-align: right;\">\n",
       "      <th></th>\n",
       "      <th>name</th>\n",
       "      <th>rating</th>\n",
       "      <th>genre</th>\n",
       "      <th>score</th>\n",
       "      <th>director</th>\n",
       "      <th>writer</th>\n",
       "      <th>star</th>\n",
       "      <th>company</th>\n",
       "      <th>year</th>\n",
       "      <th>country</th>\n",
       "      <th>tags</th>\n",
       "    </tr>\n",
       "  </thead>\n",
       "  <tbody>\n",
       "    <tr>\n",
       "      <th>0</th>\n",
       "      <td>The Shining</td>\n",
       "      <td>[R]</td>\n",
       "      <td>[Drama]</td>\n",
       "      <td>8.4</td>\n",
       "      <td>[Stanley_Kubrick]</td>\n",
       "      <td>[Stephen_King]</td>\n",
       "      <td>[Jack_Nicholson]</td>\n",
       "      <td>[Warner_Bros.]</td>\n",
       "      <td>1980</td>\n",
       "      <td>[United_States]</td>\n",
       "      <td>R Drama Stanley_Kubrick Stephen_King Jack_Nich...</td>\n",
       "    </tr>\n",
       "    <tr>\n",
       "      <th>1</th>\n",
       "      <td>The Blue Lagoon</td>\n",
       "      <td>[R]</td>\n",
       "      <td>[Adventure]</td>\n",
       "      <td>5.8</td>\n",
       "      <td>[Randal_Kleiser]</td>\n",
       "      <td>[Henry_De_Vere_Stacpoole]</td>\n",
       "      <td>[Brooke_Shields]</td>\n",
       "      <td>[Columbia_Pictures]</td>\n",
       "      <td>1980</td>\n",
       "      <td>[United_States]</td>\n",
       "      <td>R Adventure Randal_Kleiser Henry_De_Vere_Stacp...</td>\n",
       "    </tr>\n",
       "    <tr>\n",
       "      <th>2</th>\n",
       "      <td>Star Wars: Episode V - The Empire Strikes Back</td>\n",
       "      <td>[PG]</td>\n",
       "      <td>[Action]</td>\n",
       "      <td>8.7</td>\n",
       "      <td>[Irvin_Kershner]</td>\n",
       "      <td>[Leigh_Brackett]</td>\n",
       "      <td>[Mark_Hamill]</td>\n",
       "      <td>[Lucasfilm]</td>\n",
       "      <td>1980</td>\n",
       "      <td>[United_States]</td>\n",
       "      <td>PG Action Irvin_Kershner Leigh_Brackett Mark_H...</td>\n",
       "    </tr>\n",
       "    <tr>\n",
       "      <th>3</th>\n",
       "      <td>Airplane!</td>\n",
       "      <td>[PG]</td>\n",
       "      <td>[Comedy]</td>\n",
       "      <td>7.7</td>\n",
       "      <td>[Jim_Abrahams]</td>\n",
       "      <td>[Jim_Abrahams]</td>\n",
       "      <td>[Robert_Hays]</td>\n",
       "      <td>[Paramount_Pictures]</td>\n",
       "      <td>1980</td>\n",
       "      <td>[United_States]</td>\n",
       "      <td>PG Comedy Jim_Abrahams Jim_Abrahams Robert_Hay...</td>\n",
       "    </tr>\n",
       "    <tr>\n",
       "      <th>4</th>\n",
       "      <td>Caddyshack</td>\n",
       "      <td>[R]</td>\n",
       "      <td>[Comedy]</td>\n",
       "      <td>7.3</td>\n",
       "      <td>[Harold_Ramis]</td>\n",
       "      <td>[Brian_Doyle-Murray]</td>\n",
       "      <td>[Chevy_Chase]</td>\n",
       "      <td>[Orion_Pictures]</td>\n",
       "      <td>1980</td>\n",
       "      <td>[United_States]</td>\n",
       "      <td>R Comedy Harold_Ramis Brian_Doyle-Murray Chevy...</td>\n",
       "    </tr>\n",
       "  </tbody>\n",
       "</table>\n",
       "</div>"
      ],
      "text/plain": [
       "                                             name rating        genre  score  \\\n",
       "0                                     The Shining    [R]      [Drama]    8.4   \n",
       "1                                 The Blue Lagoon    [R]  [Adventure]    5.8   \n",
       "2  Star Wars: Episode V - The Empire Strikes Back   [PG]     [Action]    8.7   \n",
       "3                                       Airplane!   [PG]     [Comedy]    7.7   \n",
       "4                                      Caddyshack    [R]     [Comedy]    7.3   \n",
       "\n",
       "            director                     writer              star  \\\n",
       "0  [Stanley_Kubrick]             [Stephen_King]  [Jack_Nicholson]   \n",
       "1   [Randal_Kleiser]  [Henry_De_Vere_Stacpoole]  [Brooke_Shields]   \n",
       "2   [Irvin_Kershner]           [Leigh_Brackett]     [Mark_Hamill]   \n",
       "3     [Jim_Abrahams]             [Jim_Abrahams]     [Robert_Hays]   \n",
       "4     [Harold_Ramis]       [Brian_Doyle-Murray]     [Chevy_Chase]   \n",
       "\n",
       "                company  year          country  \\\n",
       "0        [Warner_Bros.]  1980  [United_States]   \n",
       "1   [Columbia_Pictures]  1980  [United_States]   \n",
       "2           [Lucasfilm]  1980  [United_States]   \n",
       "3  [Paramount_Pictures]  1980  [United_States]   \n",
       "4      [Orion_Pictures]  1980  [United_States]   \n",
       "\n",
       "                                                tags  \n",
       "0  R Drama Stanley_Kubrick Stephen_King Jack_Nich...  \n",
       "1  R Adventure Randal_Kleiser Henry_De_Vere_Stacp...  \n",
       "2  PG Action Irvin_Kershner Leigh_Brackett Mark_H...  \n",
       "3  PG Comedy Jim_Abrahams Jim_Abrahams Robert_Hay...  \n",
       "4  R Comedy Harold_Ramis Brian_Doyle-Murray Chevy...  "
      ]
     },
     "execution_count": 36,
     "metadata": {},
     "output_type": "execute_result"
    }
   ],
   "source": [
    "# create tags\n",
    "\n",
    "df['tags'] = df['rating'] + df['genre'] + df['director'] + df['writer'] + df['star'] + df['company'] + df['country']\n",
    "df['tags'] = df['tags'].apply(lambda x: ' '.join(x))\n",
    "\n",
    "df.head()\n"
   ]
  },
  {
   "cell_type": "code",
   "execution_count": 37,
   "metadata": {},
   "outputs": [
    {
     "data": {
      "text/html": [
       "<div>\n",
       "<style scoped>\n",
       "    .dataframe tbody tr th:only-of-type {\n",
       "        vertical-align: middle;\n",
       "    }\n",
       "\n",
       "    .dataframe tbody tr th {\n",
       "        vertical-align: top;\n",
       "    }\n",
       "\n",
       "    .dataframe thead th {\n",
       "        text-align: right;\n",
       "    }\n",
       "</style>\n",
       "<table border=\"1\" class=\"dataframe\">\n",
       "  <thead>\n",
       "    <tr style=\"text-align: right;\">\n",
       "      <th></th>\n",
       "      <th>name</th>\n",
       "      <th>score</th>\n",
       "      <th>year</th>\n",
       "      <th>tags</th>\n",
       "    </tr>\n",
       "  </thead>\n",
       "  <tbody>\n",
       "    <tr>\n",
       "      <th>0</th>\n",
       "      <td>The Shining</td>\n",
       "      <td>8.4</td>\n",
       "      <td>1980</td>\n",
       "      <td>R Drama Stanley_Kubrick Stephen_King Jack_Nich...</td>\n",
       "    </tr>\n",
       "    <tr>\n",
       "      <th>1</th>\n",
       "      <td>The Blue Lagoon</td>\n",
       "      <td>5.8</td>\n",
       "      <td>1980</td>\n",
       "      <td>R Adventure Randal_Kleiser Henry_De_Vere_Stacp...</td>\n",
       "    </tr>\n",
       "    <tr>\n",
       "      <th>2</th>\n",
       "      <td>Star Wars: Episode V - The Empire Strikes Back</td>\n",
       "      <td>8.7</td>\n",
       "      <td>1980</td>\n",
       "      <td>PG Action Irvin_Kershner Leigh_Brackett Mark_H...</td>\n",
       "    </tr>\n",
       "    <tr>\n",
       "      <th>3</th>\n",
       "      <td>Airplane!</td>\n",
       "      <td>7.7</td>\n",
       "      <td>1980</td>\n",
       "      <td>PG Comedy Jim_Abrahams Jim_Abrahams Robert_Hay...</td>\n",
       "    </tr>\n",
       "    <tr>\n",
       "      <th>4</th>\n",
       "      <td>Caddyshack</td>\n",
       "      <td>7.3</td>\n",
       "      <td>1980</td>\n",
       "      <td>R Comedy Harold_Ramis Brian_Doyle-Murray Chevy...</td>\n",
       "    </tr>\n",
       "  </tbody>\n",
       "</table>\n",
       "</div>"
      ],
      "text/plain": [
       "                                             name  score  year  \\\n",
       "0                                     The Shining    8.4  1980   \n",
       "1                                 The Blue Lagoon    5.8  1980   \n",
       "2  Star Wars: Episode V - The Empire Strikes Back    8.7  1980   \n",
       "3                                       Airplane!    7.7  1980   \n",
       "4                                      Caddyshack    7.3  1980   \n",
       "\n",
       "                                                tags  \n",
       "0  R Drama Stanley_Kubrick Stephen_King Jack_Nich...  \n",
       "1  R Adventure Randal_Kleiser Henry_De_Vere_Stacp...  \n",
       "2  PG Action Irvin_Kershner Leigh_Brackett Mark_H...  \n",
       "3  PG Comedy Jim_Abrahams Jim_Abrahams Robert_Hay...  \n",
       "4  R Comedy Harold_Ramis Brian_Doyle-Murray Chevy...  "
      ]
     },
     "execution_count": 37,
     "metadata": {},
     "output_type": "execute_result"
    }
   ],
   "source": [
    "df_new = df[['name', 'score', 'year', 'tags']]\n",
    "df_new.head()\n"
   ]
  },
  {
   "cell_type": "markdown",
   "metadata": {},
   "source": [
    "#### Vectorization (Bag Of Words)"
   ]
  },
  {
   "cell_type": "code",
   "execution_count": 126,
   "metadata": {},
   "outputs": [
    {
     "data": {
      "text/plain": [
       "(3827, 6517)"
      ]
     },
     "execution_count": 126,
     "metadata": {},
     "output_type": "execute_result"
    }
   ],
   "source": [
    "from sklearn.feature_extraction.text import CountVectorizer\n",
    "\n",
    "cv = CountVectorizer(stop_words='english')\n",
    "\n",
    "vectors_bow = cv.fit_transform(df['tags']).toarray()\n",
    "vectors_bow.shape\n"
   ]
  },
  {
   "cell_type": "code",
   "execution_count": 127,
   "metadata": {},
   "outputs": [
    {
     "data": {
      "text/plain": [
       "array(['13', '1492_pictures', '17', ..., 'émilie_dequenne', 'éric_rohmer',\n",
       "       'éva_gárdos'], dtype=object)"
      ]
     },
     "execution_count": 127,
     "metadata": {},
     "output_type": "execute_result"
    }
   ],
   "source": [
    "cv.get_feature_names_out()"
   ]
  },
  {
   "cell_type": "code",
   "execution_count": 128,
   "metadata": {},
   "outputs": [
    {
     "data": {
      "text/plain": [
       "array([0, 1, 2, 3])"
      ]
     },
     "execution_count": 128,
     "metadata": {},
     "output_type": "execute_result"
    }
   ],
   "source": [
    "np.unique(vectors_bow)"
   ]
  },
  {
   "cell_type": "code",
   "execution_count": 129,
   "metadata": {},
   "outputs": [],
   "source": [
    "vectors_bow = np.hstack((vectors_bow, df[['score', 'year']].to_numpy()))\n"
   ]
  },
  {
   "cell_type": "code",
   "execution_count": 130,
   "metadata": {},
   "outputs": [],
   "source": [
    "from sklearn.metrics.pairwise import cosine_similarity\n",
    "\n",
    "similarity_bow = cosine_similarity(vectors_bow)\n"
   ]
  },
  {
   "cell_type": "code",
   "execution_count": 131,
   "metadata": {},
   "outputs": [],
   "source": [
    "def recommend(movie, similarity):\n",
    "    movie_index = df[df['name'] == movie].index[0]\n",
    "    distances = similarity[movie_index]\n",
    "    movies_list = sorted(list(enumerate(distances)), reverse=True, key=lambda x: x[1])[:6]\n",
    "\n",
    "    for m in movies_list:\n",
    "        print(df.iloc[m[0]]['name'])\n"
   ]
  },
  {
   "cell_type": "code",
   "execution_count": 133,
   "metadata": {},
   "outputs": [
    {
     "name": "stdout",
     "output_type": "stream",
     "text": [
      "The Avengers\n",
      "Batman & Robin\n",
      "Battlefield Earth\n",
      "Dungeons & Dragons\n",
      "Speed 2: Cruise Control\n",
      "Double Dragon\n"
     ]
    }
   ],
   "source": [
    "recommend('The Avengers', similarity_bow)"
   ]
  },
  {
   "cell_type": "code",
   "execution_count": 134,
   "metadata": {},
   "outputs": [
    {
     "data": {
      "text/html": [
       "<div>\n",
       "<style scoped>\n",
       "    .dataframe tbody tr th:only-of-type {\n",
       "        vertical-align: middle;\n",
       "    }\n",
       "\n",
       "    .dataframe tbody tr th {\n",
       "        vertical-align: top;\n",
       "    }\n",
       "\n",
       "    .dataframe thead th {\n",
       "        text-align: right;\n",
       "    }\n",
       "</style>\n",
       "<table border=\"1\" class=\"dataframe\">\n",
       "  <thead>\n",
       "    <tr style=\"text-align: right;\">\n",
       "      <th></th>\n",
       "      <th>name</th>\n",
       "      <th>rating</th>\n",
       "      <th>genre</th>\n",
       "      <th>score</th>\n",
       "      <th>director</th>\n",
       "      <th>writer</th>\n",
       "      <th>star</th>\n",
       "      <th>company</th>\n",
       "      <th>year</th>\n",
       "      <th>country</th>\n",
       "      <th>tags</th>\n",
       "    </tr>\n",
       "  </thead>\n",
       "  <tbody>\n",
       "    <tr>\n",
       "      <th>2230</th>\n",
       "      <td>Matinee</td>\n",
       "      <td>[PG]</td>\n",
       "      <td>[Comedy]</td>\n",
       "      <td>6.9</td>\n",
       "      <td>[Joe_Dante]</td>\n",
       "      <td>[Jerico_Stone]</td>\n",
       "      <td>[John_Goodman]</td>\n",
       "      <td>[Universal_Pictures]</td>\n",
       "      <td>1993</td>\n",
       "      <td>[United_States]</td>\n",
       "      <td>PG Comedy Joe_Dante Jerico_Stone John_Goodman ...</td>\n",
       "    </tr>\n",
       "    <tr>\n",
       "      <th>2123</th>\n",
       "      <td>The Public Eye</td>\n",
       "      <td>[R]</td>\n",
       "      <td>[Crime]</td>\n",
       "      <td>6.5</td>\n",
       "      <td>[Howard_Franklin]</td>\n",
       "      <td>[Howard_Franklin]</td>\n",
       "      <td>[Joe_Pesci]</td>\n",
       "      <td>[Universal_Pictures]</td>\n",
       "      <td>1992</td>\n",
       "      <td>[United_States]</td>\n",
       "      <td>R Crime Howard_Franklin Howard_Franklin Joe_Pe...</td>\n",
       "    </tr>\n",
       "    <tr>\n",
       "      <th>2429</th>\n",
       "      <td>Chasers</td>\n",
       "      <td>[R]</td>\n",
       "      <td>[Action]</td>\n",
       "      <td>5.1</td>\n",
       "      <td>[Dennis_Hopper]</td>\n",
       "      <td>[Joe_Batteer]</td>\n",
       "      <td>[Tom_Berenger]</td>\n",
       "      <td>[Morgan_Creek_Entertainment]</td>\n",
       "      <td>1994</td>\n",
       "      <td>[United_States]</td>\n",
       "      <td>R Action Dennis_Hopper Joe_Batteer Tom_Berenge...</td>\n",
       "    </tr>\n",
       "    <tr>\n",
       "      <th>65</th>\n",
       "      <td>Fatso</td>\n",
       "      <td>[PG]</td>\n",
       "      <td>[Comedy]</td>\n",
       "      <td>6.3</td>\n",
       "      <td>[Anne_Bancroft]</td>\n",
       "      <td>[Anne_Bancroft]</td>\n",
       "      <td>[Dom_DeLuise]</td>\n",
       "      <td>[Brooksfilms]</td>\n",
       "      <td>1980</td>\n",
       "      <td>[United_States]</td>\n",
       "      <td>PG Comedy Anne_Bancroft Anne_Bancroft Dom_DeLu...</td>\n",
       "    </tr>\n",
       "    <tr>\n",
       "      <th>3128</th>\n",
       "      <td>Wild Things</td>\n",
       "      <td>[R]</td>\n",
       "      <td>[Crime]</td>\n",
       "      <td>6.5</td>\n",
       "      <td>[John_McNaughton]</td>\n",
       "      <td>[Stephen_Peters]</td>\n",
       "      <td>[Kevin_Bacon]</td>\n",
       "      <td>[Mandalay_Entertainment]</td>\n",
       "      <td>1998</td>\n",
       "      <td>[United_States]</td>\n",
       "      <td>R Crime John_McNaughton Stephen_Peters Kevin_B...</td>\n",
       "    </tr>\n",
       "  </tbody>\n",
       "</table>\n",
       "</div>"
      ],
      "text/plain": [
       "                name rating     genre  score           director  \\\n",
       "2230         Matinee   [PG]  [Comedy]    6.9        [Joe_Dante]   \n",
       "2123  The Public Eye    [R]   [Crime]    6.5  [Howard_Franklin]   \n",
       "2429         Chasers    [R]  [Action]    5.1    [Dennis_Hopper]   \n",
       "65             Fatso   [PG]  [Comedy]    6.3    [Anne_Bancroft]   \n",
       "3128     Wild Things    [R]   [Crime]    6.5  [John_McNaughton]   \n",
       "\n",
       "                 writer            star                       company  year  \\\n",
       "2230     [Jerico_Stone]  [John_Goodman]          [Universal_Pictures]  1993   \n",
       "2123  [Howard_Franklin]     [Joe_Pesci]          [Universal_Pictures]  1992   \n",
       "2429      [Joe_Batteer]  [Tom_Berenger]  [Morgan_Creek_Entertainment]  1994   \n",
       "65      [Anne_Bancroft]   [Dom_DeLuise]                 [Brooksfilms]  1980   \n",
       "3128   [Stephen_Peters]   [Kevin_Bacon]      [Mandalay_Entertainment]  1998   \n",
       "\n",
       "              country                                               tags  \n",
       "2230  [United_States]  PG Comedy Joe_Dante Jerico_Stone John_Goodman ...  \n",
       "2123  [United_States]  R Crime Howard_Franklin Howard_Franklin Joe_Pe...  \n",
       "2429  [United_States]  R Action Dennis_Hopper Joe_Batteer Tom_Berenge...  \n",
       "65    [United_States]  PG Comedy Anne_Bancroft Anne_Bancroft Dom_DeLu...  \n",
       "3128  [United_States]  R Crime John_McNaughton Stephen_Peters Kevin_B...  "
      ]
     },
     "execution_count": 134,
     "metadata": {},
     "output_type": "execute_result"
    }
   ],
   "source": [
    "df.sample(5)\n"
   ]
  },
  {
   "cell_type": "markdown",
   "metadata": {},
   "source": [
    "#### Try with TF-IDF"
   ]
  },
  {
   "cell_type": "code",
   "execution_count": 137,
   "metadata": {},
   "outputs": [
    {
     "data": {
      "text/plain": [
       "(3827, 6519)"
      ]
     },
     "execution_count": 137,
     "metadata": {},
     "output_type": "execute_result"
    }
   ],
   "source": [
    "from sklearn.feature_extraction.text import TfidfVectorizer\n",
    "\n",
    "tfidf = TfidfVectorizer(stop_words=\"english\")\n",
    "\n",
    "vectors_tfidf = tfidf.fit_transform(df['tags']).toarray()\n",
    "vectors_tfidf = np.hstack((vectors_tfidf, df[['score', 'year']].to_numpy()))\n",
    "vectors_tfidf.shape\n"
   ]
  },
  {
   "cell_type": "code",
   "execution_count": 138,
   "metadata": {},
   "outputs": [],
   "source": [
    "similarity_tfidf = cosine_similarity(vectors_tfidf)"
   ]
  },
  {
   "cell_type": "code",
   "execution_count": 139,
   "metadata": {},
   "outputs": [
    {
     "name": "stdout",
     "output_type": "stream",
     "text": [
      "The Avengers\n",
      "Batman & Robin\n",
      "Dungeons & Dragons\n",
      "Speed 2: Cruise Control\n",
      "Double Dragon\n",
      "Mortal Kombat: Annihilation\n"
     ]
    }
   ],
   "source": [
    "recommend('The Avengers', similarity_tfidf)"
   ]
  },
  {
   "cell_type": "code",
   "execution_count": null,
   "metadata": {},
   "outputs": [],
   "source": []
  }
 ],
 "metadata": {
  "kernelspec": {
   "display_name": "Python 3",
   "language": "python",
   "name": "python3"
  },
  "language_info": {
   "codemirror_mode": {
    "name": "ipython",
    "version": 3
   },
   "file_extension": ".py",
   "mimetype": "text/x-python",
   "name": "python",
   "nbconvert_exporter": "python",
   "pygments_lexer": "ipython3",
   "version": "3.11.7"
  }
 },
 "nbformat": 4,
 "nbformat_minor": 2
}
